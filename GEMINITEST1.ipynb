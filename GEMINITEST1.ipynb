{
  "nbformat": 4,
  "nbformat_minor": 0,
  "metadata": {
    "colab": {
      "provenance": [],
      "authorship_tag": "ABX9TyM4hKHqmYIuKg8M9XP8pYJH",
      "include_colab_link": true
    },
    "kernelspec": {
      "name": "python3",
      "display_name": "Python 3"
    },
    "language_info": {
      "name": "python"
    }
  },
  "cells": [
    {
      "cell_type": "markdown",
      "metadata": {
        "id": "view-in-github",
        "colab_type": "text"
      },
      "source": [
        "<a href=\"https://colab.research.google.com/github/lunatrifx/Project-Summitseeker/blob/main/GEMINITEST1.ipynb\" target=\"_parent\"><img src=\"https://colab.research.google.com/assets/colab-badge.svg\" alt=\"Open In Colab\"/></a>"
      ]
    },
    {
      "cell_type": "code",
      "source": [
        "import os\n",
        "import google.generativeai as genai\n",
        "from google.colab import userdata"
      ],
      "metadata": {
        "id": "v4lwLo6zC4UV"
      },
      "execution_count": 30,
      "outputs": []
    },
    {
      "cell_type": "code",
      "execution_count": 32,
      "metadata": {
        "colab": {
          "base_uri": "https://localhost:8080/",
          "height": 243
        },
        "id": "sjwp2mzJBldE",
        "outputId": "c51293f4-2a8b-4315-87c5-380a1b92ae38"
      },
      "outputs": [
        {
          "output_type": "stream",
          "name": "stdout",
          "text": [
            "\n",
            "real\t0m0.000s\n",
            "user\t0m0.000s\n",
            "sys\t0m0.000s\n",
            "**Joe Biden** won the 2020 US presidential election. \n",
            "\n",
            "**Margin of Victory:**\n",
            "\n",
            "* **Popular Vote:** Biden won the popular vote by over 7 million votes, a margin of **4.5 percentage points**.\n",
            "* **Electoral College:** Biden won the Electoral College with **306 electoral votes** to Donald Trump's **232**.\n",
            "\n",
            "It's important to note that while Biden won the popular vote by a significant margin, the Electoral College system determined the winner. \n",
            "\n"
          ]
        }
      ],
      "source": [
        "INSERT_INPUT_HERE = \"who won the 2020 US presidential race and by what margin did they win?\" # @param {type:\"string\"}\n",
        "\"\"\"\n",
        "Install the Google AI Python SDK\n",
        "\n",
        "See the getting started guide for more information:\n",
        "https://ai.google.dev/gemini-api/docs/get-started/python\n",
        "\"\"\"\n",
        "# Or use `os.getenv('GOOGLE_API_KEY')` to fetch an environment variable.\n",
        "GOOGLE_API_KEY=userdata.get('GOOGLE_API_KEY')\n",
        "genai.configure(api_key=GOOGLE_API_KEY)\n",
        "\n",
        "# Create the model\n",
        "# See https://ai.google.dev/api/python/google/generativeai/GenerativeModel\n",
        "generation_config = {\n",
        "  \"temperature\": 1,\n",
        "  \"top_p\": 0.95,\n",
        "  \"top_k\": 64,\n",
        "  \"max_output_tokens\": 8192,\n",
        "  \"response_mime_type\": \"text/plain\",\n",
        "}\n",
        "\n",
        "model = genai.GenerativeModel('gemini-1.5-flash',\n",
        "  generation_config=generation_config,\n",
        "  # safety_settings = Adjust safety settings\n",
        "  # See https://ai.google.dev/gemini-api/docs/safety-settings\n",
        ")\n",
        "\n",
        "chat_session = model.start_chat(\n",
        "  history=[\n",
        "  ]\n",
        ")\n",
        "\n",
        "response = model.generate_content(INSERT_INPUT_HERE)\n",
        "!time\n",
        "\n",
        "print(response.text)"
      ]
    }
  ]
}